{
  "nbformat": 4,
  "nbformat_minor": 0,
  "metadata": {
    "colab": {
      "provenance": []
    },
    "kernelspec": {
      "name": "python3",
      "display_name": "Python 3"
    },
    "language_info": {
      "name": "python"
    }
  },
  "cells": [
    {
      "cell_type": "code",
      "execution_count": 1,
      "metadata": {
        "id": "vznvv-7dxBBb"
      },
      "outputs": [],
      "source": [
        "import numpy as np\n",
        "import pandas as pd\n",
        "import tensorflow as tf"
      ]
    },
    {
      "cell_type": "code",
      "source": [
        "dataset=pd.read_excel('Folds5x2_pp.xlsx')\n",
        "x=dataset.iloc[:,:-1].values\n",
        "y=dataset.iloc[:,-1].values\n"
      ],
      "metadata": {
        "id": "RhkYdf060p2b"
      },
      "execution_count": 2,
      "outputs": []
    },
    {
      "cell_type": "code",
      "source": [
        "from sklearn.model_selection import train_test_split\n",
        "x_train,x_test,y_train,y_test=train_test_split(x,y,test_size=0.2)\n"
      ],
      "metadata": {
        "id": "BbpY-xTD2HPD"
      },
      "execution_count": 9,
      "outputs": []
    },
    {
      "cell_type": "code",
      "source": [
        "ann=tf.keras.models.Sequential()\n",
        "ann.add(tf.keras.layers.Dense(units=6,activation='relu'))\n",
        "ann.add(tf.keras.layers.Dense(units=6,activation='relu'))\n",
        "ann.add(tf.keras.layers.Dense(units=1))\n"
      ],
      "metadata": {
        "id": "phfkCDP422mK"
      },
      "execution_count": 6,
      "outputs": []
    },
    {
      "cell_type": "code",
      "source": [
        "ann.compile(optimizer='adam',loss='mean_squared_error')"
      ],
      "metadata": {
        "id": "eSH3I87E7Y9z"
      },
      "execution_count": 7,
      "outputs": []
    },
    {
      "cell_type": "code",
      "source": [
        "ann.fit(x_train,y_train,batch_size=32,epochs=100)\n",
        "\n"
      ],
      "metadata": {
        "colab": {
          "base_uri": "https://localhost:8080/"
        },
        "id": "l1xEri99721k",
        "outputId": "c85bc13e-a9cc-4be3-809f-22754110ac01"
      },
      "execution_count": 8,
      "outputs": [
        {
          "output_type": "stream",
          "name": "stdout",
          "text": [
            "Epoch 1/100\n",
            "240/240 [==============================] - 1s 2ms/step - loss: 15299.4707\n",
            "Epoch 2/100\n",
            "240/240 [==============================] - 0s 2ms/step - loss: 233.7937\n",
            "Epoch 3/100\n",
            "240/240 [==============================] - 0s 2ms/step - loss: 219.0054\n",
            "Epoch 4/100\n",
            "240/240 [==============================] - 0s 2ms/step - loss: 200.4238\n",
            "Epoch 5/100\n",
            "240/240 [==============================] - 0s 2ms/step - loss: 180.8233\n",
            "Epoch 6/100\n",
            "240/240 [==============================] - 0s 2ms/step - loss: 160.0437\n",
            "Epoch 7/100\n",
            "240/240 [==============================] - 1s 2ms/step - loss: 139.2492\n",
            "Epoch 8/100\n",
            "240/240 [==============================] - 1s 2ms/step - loss: 119.2742\n",
            "Epoch 9/100\n",
            "240/240 [==============================] - 1s 2ms/step - loss: 101.0212\n",
            "Epoch 10/100\n",
            "240/240 [==============================] - 1s 2ms/step - loss: 84.7523\n",
            "Epoch 11/100\n",
            "240/240 [==============================] - 1s 3ms/step - loss: 70.5675\n",
            "Epoch 12/100\n",
            "240/240 [==============================] - 0s 2ms/step - loss: 59.3423\n",
            "Epoch 13/100\n",
            "240/240 [==============================] - 0s 2ms/step - loss: 50.3867\n",
            "Epoch 14/100\n",
            "240/240 [==============================] - 0s 2ms/step - loss: 44.1376\n",
            "Epoch 15/100\n",
            "240/240 [==============================] - 0s 2ms/step - loss: 39.5275\n",
            "Epoch 16/100\n",
            "240/240 [==============================] - 0s 2ms/step - loss: 36.7228\n",
            "Epoch 17/100\n",
            "240/240 [==============================] - 0s 2ms/step - loss: 35.0133\n",
            "Epoch 18/100\n",
            "240/240 [==============================] - 0s 2ms/step - loss: 33.9562\n",
            "Epoch 19/100\n",
            "240/240 [==============================] - 0s 2ms/step - loss: 33.1965\n",
            "Epoch 20/100\n",
            "240/240 [==============================] - 0s 2ms/step - loss: 32.7460\n",
            "Epoch 21/100\n",
            "240/240 [==============================] - 0s 2ms/step - loss: 32.2769\n",
            "Epoch 22/100\n",
            "240/240 [==============================] - 0s 2ms/step - loss: 32.0092\n",
            "Epoch 23/100\n",
            "240/240 [==============================] - 0s 2ms/step - loss: 32.2365\n",
            "Epoch 24/100\n",
            "240/240 [==============================] - 0s 2ms/step - loss: 31.6626\n",
            "Epoch 25/100\n",
            "240/240 [==============================] - 0s 2ms/step - loss: 31.0893\n",
            "Epoch 26/100\n",
            "240/240 [==============================] - 0s 2ms/step - loss: 30.5345\n",
            "Epoch 27/100\n",
            "240/240 [==============================] - 0s 2ms/step - loss: 30.1189\n",
            "Epoch 28/100\n",
            "240/240 [==============================] - 0s 2ms/step - loss: 29.6489\n",
            "Epoch 29/100\n",
            "240/240 [==============================] - 0s 2ms/step - loss: 29.9965\n",
            "Epoch 30/100\n",
            "240/240 [==============================] - 0s 2ms/step - loss: 29.1738\n",
            "Epoch 31/100\n",
            "240/240 [==============================] - 0s 2ms/step - loss: 28.5810\n",
            "Epoch 32/100\n",
            "240/240 [==============================] - 0s 2ms/step - loss: 28.4538\n",
            "Epoch 33/100\n",
            "240/240 [==============================] - 0s 2ms/step - loss: 28.7085\n",
            "Epoch 34/100\n",
            "240/240 [==============================] - 0s 2ms/step - loss: 28.6122\n",
            "Epoch 35/100\n",
            "240/240 [==============================] - 0s 2ms/step - loss: 28.0429\n",
            "Epoch 36/100\n",
            "240/240 [==============================] - 0s 2ms/step - loss: 28.6213\n",
            "Epoch 37/100\n",
            "240/240 [==============================] - 1s 2ms/step - loss: 27.4539\n",
            "Epoch 38/100\n",
            "240/240 [==============================] - 1s 3ms/step - loss: 26.9726\n",
            "Epoch 39/100\n",
            "240/240 [==============================] - 1s 3ms/step - loss: 28.1177\n",
            "Epoch 40/100\n",
            "240/240 [==============================] - 1s 2ms/step - loss: 27.0382\n",
            "Epoch 41/100\n",
            "240/240 [==============================] - 1s 2ms/step - loss: 27.5798\n",
            "Epoch 42/100\n",
            "240/240 [==============================] - 0s 2ms/step - loss: 27.2839\n",
            "Epoch 43/100\n",
            "240/240 [==============================] - 0s 2ms/step - loss: 27.3139\n",
            "Epoch 44/100\n",
            "240/240 [==============================] - 0s 2ms/step - loss: 26.7459\n",
            "Epoch 45/100\n",
            "240/240 [==============================] - 0s 2ms/step - loss: 26.8769\n",
            "Epoch 46/100\n",
            "240/240 [==============================] - 0s 2ms/step - loss: 27.7184\n",
            "Epoch 47/100\n",
            "240/240 [==============================] - 0s 2ms/step - loss: 26.7141\n",
            "Epoch 48/100\n",
            "240/240 [==============================] - 0s 2ms/step - loss: 26.5552\n",
            "Epoch 49/100\n",
            "240/240 [==============================] - 0s 2ms/step - loss: 27.7731\n",
            "Epoch 50/100\n",
            "240/240 [==============================] - 0s 2ms/step - loss: 27.3203\n",
            "Epoch 51/100\n",
            "240/240 [==============================] - 0s 2ms/step - loss: 27.7165\n",
            "Epoch 52/100\n",
            "240/240 [==============================] - 0s 2ms/step - loss: 27.4909\n",
            "Epoch 53/100\n",
            "240/240 [==============================] - 0s 2ms/step - loss: 26.6774\n",
            "Epoch 54/100\n",
            "240/240 [==============================] - 0s 2ms/step - loss: 26.4061\n",
            "Epoch 55/100\n",
            "240/240 [==============================] - 0s 2ms/step - loss: 26.9100\n",
            "Epoch 56/100\n",
            "240/240 [==============================] - 0s 2ms/step - loss: 26.9277\n",
            "Epoch 57/100\n",
            "240/240 [==============================] - 0s 2ms/step - loss: 26.6926\n",
            "Epoch 58/100\n",
            "240/240 [==============================] - 0s 2ms/step - loss: 26.8611\n",
            "Epoch 59/100\n",
            "240/240 [==============================] - 0s 2ms/step - loss: 26.6859\n",
            "Epoch 60/100\n",
            "240/240 [==============================] - 0s 2ms/step - loss: 28.4292\n",
            "Epoch 61/100\n",
            "240/240 [==============================] - 0s 2ms/step - loss: 26.7543\n",
            "Epoch 62/100\n",
            "240/240 [==============================] - 0s 2ms/step - loss: 26.5775\n",
            "Epoch 63/100\n",
            "240/240 [==============================] - 0s 2ms/step - loss: 26.8963\n",
            "Epoch 64/100\n",
            "240/240 [==============================] - 0s 2ms/step - loss: 26.8161\n",
            "Epoch 65/100\n",
            "240/240 [==============================] - 0s 2ms/step - loss: 27.2804\n",
            "Epoch 66/100\n",
            "240/240 [==============================] - 1s 2ms/step - loss: 26.5018\n",
            "Epoch 67/100\n",
            "240/240 [==============================] - 1s 3ms/step - loss: 27.4636\n",
            "Epoch 68/100\n",
            "240/240 [==============================] - 1s 3ms/step - loss: 26.9071\n",
            "Epoch 69/100\n",
            "240/240 [==============================] - 1s 2ms/step - loss: 26.8422\n",
            "Epoch 70/100\n",
            "240/240 [==============================] - 1s 2ms/step - loss: 26.9635\n",
            "Epoch 71/100\n",
            "240/240 [==============================] - 0s 2ms/step - loss: 27.2317\n",
            "Epoch 72/100\n",
            "240/240 [==============================] - 0s 2ms/step - loss: 26.7793\n",
            "Epoch 73/100\n",
            "240/240 [==============================] - 0s 2ms/step - loss: 26.7836\n",
            "Epoch 74/100\n",
            "240/240 [==============================] - 0s 2ms/step - loss: 27.5871\n",
            "Epoch 75/100\n",
            "240/240 [==============================] - 0s 2ms/step - loss: 26.5927\n",
            "Epoch 76/100\n",
            "240/240 [==============================] - 0s 2ms/step - loss: 26.8479\n",
            "Epoch 77/100\n",
            "240/240 [==============================] - 0s 2ms/step - loss: 26.9088\n",
            "Epoch 78/100\n",
            "240/240 [==============================] - 0s 2ms/step - loss: 27.5484\n",
            "Epoch 79/100\n",
            "240/240 [==============================] - 0s 2ms/step - loss: 26.4317\n",
            "Epoch 80/100\n",
            "240/240 [==============================] - 0s 2ms/step - loss: 27.0268\n",
            "Epoch 81/100\n",
            "240/240 [==============================] - 0s 2ms/step - loss: 26.6771\n",
            "Epoch 82/100\n",
            "240/240 [==============================] - 0s 2ms/step - loss: 27.0855\n",
            "Epoch 83/100\n",
            "240/240 [==============================] - 0s 2ms/step - loss: 27.1943\n",
            "Epoch 84/100\n",
            "240/240 [==============================] - 0s 2ms/step - loss: 26.4685\n",
            "Epoch 85/100\n",
            "240/240 [==============================] - 0s 2ms/step - loss: 26.6697\n",
            "Epoch 86/100\n",
            "240/240 [==============================] - 1s 5ms/step - loss: 26.6684\n",
            "Epoch 87/100\n",
            "240/240 [==============================] - 1s 5ms/step - loss: 26.8987\n",
            "Epoch 88/100\n",
            "240/240 [==============================] - 1s 4ms/step - loss: 26.9231\n",
            "Epoch 89/100\n",
            "240/240 [==============================] - 2s 7ms/step - loss: 27.1039\n",
            "Epoch 90/100\n",
            "240/240 [==============================] - 1s 2ms/step - loss: 26.7792\n",
            "Epoch 91/100\n",
            "240/240 [==============================] - 1s 2ms/step - loss: 26.3059\n",
            "Epoch 92/100\n",
            "240/240 [==============================] - 1s 3ms/step - loss: 28.2140\n",
            "Epoch 93/100\n",
            "240/240 [==============================] - 1s 2ms/step - loss: 27.1232\n",
            "Epoch 94/100\n",
            "240/240 [==============================] - 0s 2ms/step - loss: 27.0225\n",
            "Epoch 95/100\n",
            "240/240 [==============================] - 0s 2ms/step - loss: 27.4140\n",
            "Epoch 96/100\n",
            "240/240 [==============================] - 0s 2ms/step - loss: 27.4744\n",
            "Epoch 97/100\n",
            "240/240 [==============================] - 0s 2ms/step - loss: 26.8945\n",
            "Epoch 98/100\n",
            "240/240 [==============================] - 0s 2ms/step - loss: 26.6228\n",
            "Epoch 99/100\n",
            "240/240 [==============================] - 0s 2ms/step - loss: 26.9710\n",
            "Epoch 100/100\n",
            "240/240 [==============================] - 0s 2ms/step - loss: 27.0130\n"
          ]
        },
        {
          "output_type": "execute_result",
          "data": {
            "text/plain": [
              "<keras.src.callbacks.History at 0x7ece4a2bc9d0>"
            ]
          },
          "metadata": {},
          "execution_count": 8
        }
      ]
    },
    {
      "cell_type": "code",
      "source": [
        "y_pred=ann.predict(x_test)\n",
        "np.set_printoptions(precision=2)\n",
        "print(np.concatenate((y_pred.reshape(len(y_pred),1),y_test.reshape(len(y_test),1)),1))\n",
        "\n"
      ],
      "metadata": {
        "colab": {
          "base_uri": "https://localhost:8080/"
        },
        "id": "HNpCSjJq9dEb",
        "outputId": "5132963c-b257-4021-e48c-444f6a892998"
      },
      "execution_count": 13,
      "outputs": [
        {
          "output_type": "stream",
          "name": "stdout",
          "text": [
            "60/60 [==============================] - 0s 1ms/step\n",
            "[[436.04 441.58]\n",
            " [472.81 475.76]\n",
            " [436.34 441.25]\n",
            " ...\n",
            " [464.38 466.81]\n",
            " [458.96 457.54]\n",
            " [473.34 466.83]]\n"
          ]
        }
      ]
    },
    {
      "cell_type": "code",
      "source": [
        "from sklearn.metrics import mean_squared_error\n",
        "\n",
        "# Assuming y_test and y_pred contain your true labels and predicted labels respectively\n",
        "mse = mean_squared_error(y_test, y_pred)\n",
        "print(f'Mean Squared Error: {mse:.4f}')"
      ],
      "metadata": {
        "colab": {
          "base_uri": "https://localhost:8080/"
        },
        "id": "sHCyPgErCBnK",
        "outputId": "a273a874-8aa5-4cc6-e6d1-d7467952f7dc"
      },
      "execution_count": 16,
      "outputs": [
        {
          "output_type": "stream",
          "name": "stdout",
          "text": [
            "Mean Squared Error: 28.6743\n"
          ]
        }
      ]
    }
  ]
}